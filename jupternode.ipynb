{
 "cells": [
  {
   "cell_type": "code",
   "execution_count": 4,
   "metadata": {},
   "outputs": [],
   "source": [
    "import pandas as pd \n",
    "import numpy as np\n",
    "import seaborn as sns\n",
    "df=pd.read_csv(\"data.csv\")"
   ]
  },
  {
   "cell_type": "code",
   "execution_count": 5,
   "metadata": {},
   "outputs": [
    {
     "data": {
      "text/html": [
       "<div>\n",
       "<style scoped>\n",
       "    .dataframe tbody tr th:only-of-type {\n",
       "        vertical-align: middle;\n",
       "    }\n",
       "\n",
       "    .dataframe tbody tr th {\n",
       "        vertical-align: top;\n",
       "    }\n",
       "\n",
       "    .dataframe thead th {\n",
       "        text-align: right;\n",
       "    }\n",
       "</style>\n",
       "<table border=\"1\" class=\"dataframe\">\n",
       "  <thead>\n",
       "    <tr style=\"text-align: right;\">\n",
       "      <th></th>\n",
       "      <th>Investor Type</th>\n",
       "      <th>Age</th>\n",
       "      <th>Equity</th>\n",
       "      <th>Mutual Funds</th>\n",
       "      <th>Debt Funds</th>\n",
       "      <th>Sovereign Gold Bonds</th>\n",
       "      <th>Government Bonds</th>\n",
       "      <th>Public Provident Fund</th>\n",
       "      <th>Fixed Deposits</th>\n",
       "    </tr>\n",
       "  </thead>\n",
       "  <tbody>\n",
       "    <tr>\n",
       "      <th>0</th>\n",
       "      <td>Aggressive Investor</td>\n",
       "      <td>20</td>\n",
       "      <td>80</td>\n",
       "      <td>15</td>\n",
       "      <td>0</td>\n",
       "      <td>0</td>\n",
       "      <td>0</td>\n",
       "      <td>0</td>\n",
       "      <td>5</td>\n",
       "    </tr>\n",
       "    <tr>\n",
       "      <th>1</th>\n",
       "      <td>Moderate Investor</td>\n",
       "      <td>20</td>\n",
       "      <td>50</td>\n",
       "      <td>25</td>\n",
       "      <td>10</td>\n",
       "      <td>5</td>\n",
       "      <td>0</td>\n",
       "      <td>5</td>\n",
       "      <td>5</td>\n",
       "    </tr>\n",
       "    <tr>\n",
       "      <th>2</th>\n",
       "      <td>Conservative Investor</td>\n",
       "      <td>20</td>\n",
       "      <td>20</td>\n",
       "      <td>20</td>\n",
       "      <td>20</td>\n",
       "      <td>10</td>\n",
       "      <td>10</td>\n",
       "      <td>10</td>\n",
       "      <td>10</td>\n",
       "    </tr>\n",
       "    <tr>\n",
       "      <th>3</th>\n",
       "      <td>Aggressive Investor</td>\n",
       "      <td>30</td>\n",
       "      <td>75</td>\n",
       "      <td>20</td>\n",
       "      <td>0</td>\n",
       "      <td>0</td>\n",
       "      <td>0</td>\n",
       "      <td>0</td>\n",
       "      <td>5</td>\n",
       "    </tr>\n",
       "    <tr>\n",
       "      <th>4</th>\n",
       "      <td>Moderate Investor</td>\n",
       "      <td>30</td>\n",
       "      <td>45</td>\n",
       "      <td>30</td>\n",
       "      <td>10</td>\n",
       "      <td>5</td>\n",
       "      <td>0</td>\n",
       "      <td>5</td>\n",
       "      <td>5</td>\n",
       "    </tr>\n",
       "  </tbody>\n",
       "</table>\n",
       "</div>"
      ],
      "text/plain": [
       "            Investor Type  Age   Equity  Mutual Funds  Debt Funds  \\\n",
       "0    Aggressive Investor    20       80            15           0   \n",
       "1      Moderate Investor    20       50            25          10   \n",
       "2  Conservative Investor    20       20            20          20   \n",
       "3    Aggressive Investor    30       75            20           0   \n",
       "4      Moderate Investor    30       45            30          10   \n",
       "\n",
       "   Sovereign Gold Bonds  Government Bonds  Public Provident Fund  \\\n",
       "0                     0                 0                      0   \n",
       "1                     5                 0                      5   \n",
       "2                    10                10                     10   \n",
       "3                     0                 0                      0   \n",
       "4                     5                 0                      5   \n",
       "\n",
       "   Fixed Deposits  \n",
       "0               5  \n",
       "1               5  \n",
       "2              10  \n",
       "3               5  \n",
       "4               5  "
      ]
     },
     "execution_count": 5,
     "metadata": {},
     "output_type": "execute_result"
    }
   ],
   "source": [
    "df.head()"
   ]
  },
  {
   "cell_type": "code",
   "execution_count": 6,
   "metadata": {},
   "outputs": [
    {
     "data": {
      "text/plain": [
       "array(['Aggressive Investor ', 'Moderate Investor ',\n",
       "       'Conservative Investor '], dtype=object)"
      ]
     },
     "execution_count": 6,
     "metadata": {},
     "output_type": "execute_result"
    }
   ],
   "source": [
    "df['Investor Type'].unique()"
   ]
  },
  {
   "cell_type": "code",
   "execution_count": 7,
   "metadata": {},
   "outputs": [],
   "source": [
    "df['Investor Type']=df['Investor Type'].replace({'Aggressive Investor ':3, 'Moderate Investor ':2,'Conservative Investor ':1})"
   ]
  },
  {
   "cell_type": "code",
   "execution_count": 8,
   "metadata": {},
   "outputs": [
    {
     "name": "stdout",
     "output_type": "stream",
     "text": [
      "<class 'pandas.core.frame.DataFrame'>\n",
      "RangeIndex: 12 entries, 0 to 11\n",
      "Data columns (total 9 columns):\n",
      " #   Column                 Non-Null Count  Dtype\n",
      "---  ------                 --------------  -----\n",
      " 0   Investor Type          12 non-null     int64\n",
      " 1   Age                    12 non-null     int64\n",
      " 2    Equity                12 non-null     int64\n",
      " 3   Mutual Funds           12 non-null     int64\n",
      " 4   Debt Funds             12 non-null     int64\n",
      " 5   Sovereign Gold Bonds   12 non-null     int64\n",
      " 6   Government Bonds       12 non-null     int64\n",
      " 7   Public Provident Fund  12 non-null     int64\n",
      " 8   Fixed Deposits         12 non-null     int64\n",
      "dtypes: int64(9)\n",
      "memory usage: 992.0 bytes\n"
     ]
    }
   ],
   "source": [
    "df.info()"
   ]
  },
  {
   "cell_type": "code",
   "execution_count": 9,
   "metadata": {},
   "outputs": [
    {
     "data": {
      "text/html": [
       "<div>\n",
       "<style scoped>\n",
       "    .dataframe tbody tr th:only-of-type {\n",
       "        vertical-align: middle;\n",
       "    }\n",
       "\n",
       "    .dataframe tbody tr th {\n",
       "        vertical-align: top;\n",
       "    }\n",
       "\n",
       "    .dataframe thead th {\n",
       "        text-align: right;\n",
       "    }\n",
       "</style>\n",
       "<table border=\"1\" class=\"dataframe\">\n",
       "  <thead>\n",
       "    <tr style=\"text-align: right;\">\n",
       "      <th></th>\n",
       "      <th>Investor Type</th>\n",
       "      <th>Age</th>\n",
       "      <th>Equity</th>\n",
       "      <th>Mutual Funds</th>\n",
       "      <th>Debt Funds</th>\n",
       "      <th>Sovereign Gold Bonds</th>\n",
       "      <th>Government Bonds</th>\n",
       "      <th>Public Provident Fund</th>\n",
       "      <th>Fixed Deposits</th>\n",
       "    </tr>\n",
       "  </thead>\n",
       "  <tbody>\n",
       "    <tr>\n",
       "      <th>count</th>\n",
       "      <td>12.000000</td>\n",
       "      <td>12.000000</td>\n",
       "      <td>12.000000</td>\n",
       "      <td>12.000000</td>\n",
       "      <td>12.000000</td>\n",
       "      <td>12.000000</td>\n",
       "      <td>12.000000</td>\n",
       "      <td>12.000000</td>\n",
       "      <td>12.000000</td>\n",
       "    </tr>\n",
       "    <tr>\n",
       "      <th>mean</th>\n",
       "      <td>2.000000</td>\n",
       "      <td>35.000000</td>\n",
       "      <td>42.500000</td>\n",
       "      <td>27.500000</td>\n",
       "      <td>12.500000</td>\n",
       "      <td>5.000000</td>\n",
       "      <td>2.916667</td>\n",
       "      <td>2.916667</td>\n",
       "      <td>6.666667</td>\n",
       "    </tr>\n",
       "    <tr>\n",
       "      <th>std</th>\n",
       "      <td>0.852803</td>\n",
       "      <td>11.677484</td>\n",
       "      <td>26.241882</td>\n",
       "      <td>7.229988</td>\n",
       "      <td>12.339884</td>\n",
       "      <td>4.264014</td>\n",
       "      <td>4.501683</td>\n",
       "      <td>3.342790</td>\n",
       "      <td>2.461830</td>\n",
       "    </tr>\n",
       "    <tr>\n",
       "      <th>min</th>\n",
       "      <td>1.000000</td>\n",
       "      <td>20.000000</td>\n",
       "      <td>5.000000</td>\n",
       "      <td>15.000000</td>\n",
       "      <td>0.000000</td>\n",
       "      <td>0.000000</td>\n",
       "      <td>0.000000</td>\n",
       "      <td>0.000000</td>\n",
       "      <td>5.000000</td>\n",
       "    </tr>\n",
       "    <tr>\n",
       "      <th>25%</th>\n",
       "      <td>1.000000</td>\n",
       "      <td>27.500000</td>\n",
       "      <td>18.750000</td>\n",
       "      <td>23.750000</td>\n",
       "      <td>0.000000</td>\n",
       "      <td>0.000000</td>\n",
       "      <td>0.000000</td>\n",
       "      <td>0.000000</td>\n",
       "      <td>5.000000</td>\n",
       "    </tr>\n",
       "    <tr>\n",
       "      <th>50%</th>\n",
       "      <td>2.000000</td>\n",
       "      <td>35.000000</td>\n",
       "      <td>42.500000</td>\n",
       "      <td>27.500000</td>\n",
       "      <td>10.000000</td>\n",
       "      <td>5.000000</td>\n",
       "      <td>0.000000</td>\n",
       "      <td>2.500000</td>\n",
       "      <td>5.000000</td>\n",
       "    </tr>\n",
       "    <tr>\n",
       "      <th>75%</th>\n",
       "      <td>3.000000</td>\n",
       "      <td>42.500000</td>\n",
       "      <td>66.250000</td>\n",
       "      <td>31.250000</td>\n",
       "      <td>21.250000</td>\n",
       "      <td>10.000000</td>\n",
       "      <td>6.250000</td>\n",
       "      <td>5.000000</td>\n",
       "      <td>10.000000</td>\n",
       "    </tr>\n",
       "    <tr>\n",
       "      <th>max</th>\n",
       "      <td>3.000000</td>\n",
       "      <td>50.000000</td>\n",
       "      <td>80.000000</td>\n",
       "      <td>40.000000</td>\n",
       "      <td>35.000000</td>\n",
       "      <td>10.000000</td>\n",
       "      <td>10.000000</td>\n",
       "      <td>10.000000</td>\n",
       "      <td>10.000000</td>\n",
       "    </tr>\n",
       "  </tbody>\n",
       "</table>\n",
       "</div>"
      ],
      "text/plain": [
       "       Investor Type        Age     Equity  Mutual Funds  Debt Funds  \\\n",
       "count      12.000000  12.000000  12.000000     12.000000   12.000000   \n",
       "mean        2.000000  35.000000  42.500000     27.500000   12.500000   \n",
       "std         0.852803  11.677484  26.241882      7.229988   12.339884   \n",
       "min         1.000000  20.000000   5.000000     15.000000    0.000000   \n",
       "25%         1.000000  27.500000  18.750000     23.750000    0.000000   \n",
       "50%         2.000000  35.000000  42.500000     27.500000   10.000000   \n",
       "75%         3.000000  42.500000  66.250000     31.250000   21.250000   \n",
       "max         3.000000  50.000000  80.000000     40.000000   35.000000   \n",
       "\n",
       "       Sovereign Gold Bonds  Government Bonds  Public Provident Fund  \\\n",
       "count             12.000000         12.000000              12.000000   \n",
       "mean               5.000000          2.916667               2.916667   \n",
       "std                4.264014          4.501683               3.342790   \n",
       "min                0.000000          0.000000               0.000000   \n",
       "25%                0.000000          0.000000               0.000000   \n",
       "50%                5.000000          0.000000               2.500000   \n",
       "75%               10.000000          6.250000               5.000000   \n",
       "max               10.000000         10.000000              10.000000   \n",
       "\n",
       "       Fixed Deposits  \n",
       "count       12.000000  \n",
       "mean         6.666667  \n",
       "std          2.461830  \n",
       "min          5.000000  \n",
       "25%          5.000000  \n",
       "50%          5.000000  \n",
       "75%         10.000000  \n",
       "max         10.000000  "
      ]
     },
     "execution_count": 9,
     "metadata": {},
     "output_type": "execute_result"
    }
   ],
   "source": [
    "df.describe()"
   ]
  },
  {
   "cell_type": "code",
   "execution_count": 10,
   "metadata": {},
   "outputs": [
    {
     "data": {
      "text/html": [
       "<div>\n",
       "<style scoped>\n",
       "    .dataframe tbody tr th:only-of-type {\n",
       "        vertical-align: middle;\n",
       "    }\n",
       "\n",
       "    .dataframe tbody tr th {\n",
       "        vertical-align: top;\n",
       "    }\n",
       "\n",
       "    .dataframe thead th {\n",
       "        text-align: right;\n",
       "    }\n",
       "</style>\n",
       "<table border=\"1\" class=\"dataframe\">\n",
       "  <thead>\n",
       "    <tr style=\"text-align: right;\">\n",
       "      <th></th>\n",
       "      <th>Investor Type</th>\n",
       "      <th>Age</th>\n",
       "      <th>Equity</th>\n",
       "      <th>Mutual Funds</th>\n",
       "      <th>Debt Funds</th>\n",
       "      <th>Sovereign Gold Bonds</th>\n",
       "      <th>Government Bonds</th>\n",
       "      <th>Public Provident Fund</th>\n",
       "      <th>Fixed Deposits</th>\n",
       "    </tr>\n",
       "  </thead>\n",
       "  <tbody>\n",
       "    <tr>\n",
       "      <th>Investor Type</th>\n",
       "      <td>1.000000</td>\n",
       "      <td>0.000000e+00</td>\n",
       "      <td>0.974933</td>\n",
       "      <td>-2.948839e-01</td>\n",
       "      <td>-0.950255</td>\n",
       "      <td>-1.000000e+00</td>\n",
       "      <td>-0.828804</td>\n",
       "      <td>-0.478345</td>\n",
       "      <td>-8.660254e-01</td>\n",
       "    </tr>\n",
       "    <tr>\n",
       "      <th>Age</th>\n",
       "      <td>0.000000</td>\n",
       "      <td>1.000000e+00</td>\n",
       "      <td>-0.222497</td>\n",
       "      <td>8.075729e-01</td>\n",
       "      <td>0.157720</td>\n",
       "      <td>2.594535e-17</td>\n",
       "      <td>-0.129701</td>\n",
       "      <td>-0.407556</td>\n",
       "      <td>8.987734e-17</td>\n",
       "    </tr>\n",
       "    <tr>\n",
       "      <th>Equity</th>\n",
       "      <td>0.974933</td>\n",
       "      <td>-2.224971e-01</td>\n",
       "      <td>1.000000</td>\n",
       "      <td>-4.671748e-01</td>\n",
       "      <td>-0.961528</td>\n",
       "      <td>-9.749334e-01</td>\n",
       "      <td>-0.779170</td>\n",
       "      <td>-0.375674</td>\n",
       "      <td>-8.443171e-01</td>\n",
       "    </tr>\n",
       "    <tr>\n",
       "      <th>Mutual Funds</th>\n",
       "      <td>-0.294884</td>\n",
       "      <td>8.075729e-01</td>\n",
       "      <td>-0.467175</td>\n",
       "      <td>1.000000e+00</td>\n",
       "      <td>0.331163</td>\n",
       "      <td>2.948839e-01</td>\n",
       "      <td>-0.104743</td>\n",
       "      <td>0.047019</td>\n",
       "      <td>9.072812e-17</td>\n",
       "    </tr>\n",
       "    <tr>\n",
       "      <th>Debt Funds</th>\n",
       "      <td>-0.950255</td>\n",
       "      <td>1.577201e-01</td>\n",
       "      <td>-0.961528</td>\n",
       "      <td>3.311632e-01</td>\n",
       "      <td>1.000000</td>\n",
       "      <td>9.502553e-01</td>\n",
       "      <td>0.797804</td>\n",
       "      <td>0.192839</td>\n",
       "      <td>8.977584e-01</td>\n",
       "    </tr>\n",
       "    <tr>\n",
       "      <th>Sovereign Gold Bonds</th>\n",
       "      <td>-1.000000</td>\n",
       "      <td>2.594535e-17</td>\n",
       "      <td>-0.974933</td>\n",
       "      <td>2.948839e-01</td>\n",
       "      <td>0.950255</td>\n",
       "      <td>1.000000e+00</td>\n",
       "      <td>0.828804</td>\n",
       "      <td>0.478345</td>\n",
       "      <td>8.660254e-01</td>\n",
       "    </tr>\n",
       "    <tr>\n",
       "      <th>Government Bonds</th>\n",
       "      <td>-0.828804</td>\n",
       "      <td>-1.297013e-01</td>\n",
       "      <td>-0.779170</td>\n",
       "      <td>-1.047433e-01</td>\n",
       "      <td>0.797804</td>\n",
       "      <td>8.288039e-01</td>\n",
       "      <td>1.000000</td>\n",
       "      <td>0.289474</td>\n",
       "      <td>9.570203e-01</td>\n",
       "    </tr>\n",
       "    <tr>\n",
       "      <th>Public Provident Fund</th>\n",
       "      <td>-0.478345</td>\n",
       "      <td>-4.075558e-01</td>\n",
       "      <td>-0.375674</td>\n",
       "      <td>4.701871e-02</td>\n",
       "      <td>0.192839</td>\n",
       "      <td>4.783446e-01</td>\n",
       "      <td>0.289474</td>\n",
       "      <td>1.000000</td>\n",
       "      <td>1.841149e-01</td>\n",
       "    </tr>\n",
       "    <tr>\n",
       "      <th>Fixed Deposits</th>\n",
       "      <td>-0.866025</td>\n",
       "      <td>8.987734e-17</td>\n",
       "      <td>-0.844317</td>\n",
       "      <td>9.072812e-17</td>\n",
       "      <td>0.897758</td>\n",
       "      <td>8.660254e-01</td>\n",
       "      <td>0.957020</td>\n",
       "      <td>0.184115</td>\n",
       "      <td>1.000000e+00</td>\n",
       "    </tr>\n",
       "  </tbody>\n",
       "</table>\n",
       "</div>"
      ],
      "text/plain": [
       "                       Investor Type           Age    Equity  Mutual Funds  \\\n",
       "Investor Type               1.000000  0.000000e+00  0.974933 -2.948839e-01   \n",
       "Age                         0.000000  1.000000e+00 -0.222497  8.075729e-01   \n",
       " Equity                     0.974933 -2.224971e-01  1.000000 -4.671748e-01   \n",
       "Mutual Funds               -0.294884  8.075729e-01 -0.467175  1.000000e+00   \n",
       "Debt Funds                 -0.950255  1.577201e-01 -0.961528  3.311632e-01   \n",
       "Sovereign Gold Bonds       -1.000000  2.594535e-17 -0.974933  2.948839e-01   \n",
       "Government Bonds           -0.828804 -1.297013e-01 -0.779170 -1.047433e-01   \n",
       "Public Provident Fund      -0.478345 -4.075558e-01 -0.375674  4.701871e-02   \n",
       "Fixed Deposits             -0.866025  8.987734e-17 -0.844317  9.072812e-17   \n",
       "\n",
       "                       Debt Funds  Sovereign Gold Bonds  Government Bonds  \\\n",
       "Investor Type           -0.950255         -1.000000e+00         -0.828804   \n",
       "Age                      0.157720          2.594535e-17         -0.129701   \n",
       " Equity                 -0.961528         -9.749334e-01         -0.779170   \n",
       "Mutual Funds             0.331163          2.948839e-01         -0.104743   \n",
       "Debt Funds               1.000000          9.502553e-01          0.797804   \n",
       "Sovereign Gold Bonds     0.950255          1.000000e+00          0.828804   \n",
       "Government Bonds         0.797804          8.288039e-01          1.000000   \n",
       "Public Provident Fund    0.192839          4.783446e-01          0.289474   \n",
       "Fixed Deposits           0.897758          8.660254e-01          0.957020   \n",
       "\n",
       "                       Public Provident Fund  Fixed Deposits  \n",
       "Investor Type                      -0.478345   -8.660254e-01  \n",
       "Age                                -0.407556    8.987734e-17  \n",
       " Equity                            -0.375674   -8.443171e-01  \n",
       "Mutual Funds                        0.047019    9.072812e-17  \n",
       "Debt Funds                          0.192839    8.977584e-01  \n",
       "Sovereign Gold Bonds                0.478345    8.660254e-01  \n",
       "Government Bonds                    0.289474    9.570203e-01  \n",
       "Public Provident Fund               1.000000    1.841149e-01  \n",
       "Fixed Deposits                      0.184115    1.000000e+00  "
      ]
     },
     "execution_count": 10,
     "metadata": {},
     "output_type": "execute_result"
    }
   ],
   "source": [
    "df.corr()"
   ]
  },
  {
   "cell_type": "code",
   "execution_count": 11,
   "metadata": {},
   "outputs": [
    {
     "data": {
      "text/plain": [
       "<Axes: >"
      ]
     },
     "execution_count": 11,
     "metadata": {},
     "output_type": "execute_result"
    },
    {
     "data": {
      "image/png": "[encoded data removed]",
      "text/plain": [
       "<Figure size 640x480 with 2 Axes>"
      ]
     },
     "metadata": {},
     "output_type": "display_data"
    }
   ],
   "source": [
    "sns.heatmap(df.corr())"
   ]
  },
  {
   "cell_type": "code",
   "execution_count": null,
   "metadata": {},
   "outputs": [],
   "source": []
  },
  {
   "cell_type": "code",
   "execution_count": 12,
   "metadata": {},
   "outputs": [],
   "source": [
    "import pandas as pd\n",
    "from sklearn.model_selection import train_test_split\n",
    "from sklearn.ensemble import RandomForestRegressor\n",
    "from sklearn.metrics import mean_squared_error\n",
    "x=df[['Age','Investor Type']]\n",
    "y=df.drop(['Age','Investor Type'],axis=1)"
   ]
  },
  {
   "cell_type": "code",
   "execution_count": 13,
   "metadata": {},
   "outputs": [
    {
     "name": "stdout",
     "output_type": "stream",
     "text": [
      "Mean Squared Error: 0.0\n"
     ]
    }
   ],
   "source": [
    "from sklearn.ensemble import RandomForestRegressor\n",
    "from sklearn.metrics import mean_squared_error\n",
    "\n",
    "# Define the model with the specified hyperparameters\n",
    "model = RandomForestRegressor(\n",
    "    n_estimators=100,     # Number of trees in the forest\n",
    "    max_depth=None,       # Maximum depth of the tree\n",
    "    min_samples_split=2,  # Minimum number of samples required to split a node\n",
    "    min_samples_leaf=1,   # Minimum number of samples required at each leaf node\n",
    "    bootstrap=False       # Method of selecting samples for training each tree\n",
    ")\n",
    "\n",
    "# Fit the model on the training data\n",
    "model.fit(x, y)\n",
    "\n",
    "# Evaluate the model\n",
    "y_pred = model.predict(x)\n",
    "mse = mean_squared_error(y, y_pred)\n",
    "print(f'Mean Squared Error: {mse}')\n"
   ]
  },
  {
   "cell_type": "code",
   "execution_count": 15,
   "metadata": {},
   "outputs": [
    {
     "name": "stdout",
     "output_type": "stream",
     "text": [
      "Model saved to portfolio.pkl\n"
     ]
    }
   ],
   "source": [
    "import pickle\n",
    "\n",
    "# Save the model to disk\n",
    "filename = 'portfolio.pkl'\n",
    "with open(filename, 'wb') as file:\n",
    "    model=pickle.dump(model, file)\n",
    "\n",
    "print(f\"Model saved to {filename}\")\n"
   ]
  },
  {
   "cell_type": "code",
   "execution_count": null,
   "metadata": {},
   "outputs": [
    {
     "name": "stdout",
     "output_type": "stream",
     "text": [
      "[10. 60. 20.  0.  0.  0.  0. 10.]\n"
     ]
    }
   ],
   "source": [
    "import numpy as np \n",
    "predict_value=model.predict(pd.DataFrame({\"Age\":[12],'Investor Type':[3]}))[0]\n",
    "df_result=predict_value/predict_value.sum()*100\n",
    "df_round=np.round(df_result)\n",
    "print(df_round)"
   ]
  },
  {
   "cell_type": "code",
   "execution_count": 16,
   "metadata": {},
   "outputs": [],
   "source": [
    "filename = 'portfolio.pkl'\n",
    "with open(filename, 'rb') as file:\n",
    "    model=pickle.load( file)"
   ]
  },
  {
   "cell_type": "code",
   "execution_count": 17,
   "metadata": {},
   "outputs": [
    {
     "data": {
      "text/plain": [
       "array([[80., 15.,  0.,  0.,  0.,  0.,  5.]])"
      ]
     },
     "execution_count": 17,
     "metadata": {},
     "output_type": "execute_result"
    }
   ],
   "source": [
    "model.predict(pd.DataFrame({\"Age\":[12],'Investor Type':[3]}))"
   ]
  },
  {
   "cell_type": "code",
   "execution_count": 19,
   "metadata": {},
   "outputs": [
    {
     "name": "stdout",
     "output_type": "stream",
     "text": [
      "[50. 25. 10.  5.  0.  5.  5.]\n"
     ]
    }
   ],
   "source": [
    "filename = 'portfolio.pkl'\n",
    "with open(filename, 'rb') as file:\n",
    "    model=pickle.load( file)\n",
    "\n",
    "def portfolio_allocation(Age,Investor_Type):\n",
    "    Investor_Type=Investor_Type.replace(\"Aggressive Investor \",\"3\")\n",
    "    Investor_Type=Investor_Type.replace(\"Moderate Investor \",\"2\")\n",
    "    Investor_Type=Investor_Type.replace(\"Conservative Investor \",\"1\")\n",
    "    df=pd.DataFrame({\"Age\":[Age],'Investor Type':[Investor_Type]})\n",
    "\n",
    "    predict_value=model.predict(df)[0]\n",
    "    df_result=predict_value/predict_value.sum()*100\n",
    "    df_round=np.round(df_result)\n",
    "    print(df_round) \n",
    "\n",
    "portfolio_allocation(20,\"Moderate Investor \")\n",
    "    "
   ]
  },
  {
   "cell_type": "code",
   "execution_count": null,
   "metadata": {},
   "outputs": [],
   "source": []
  }
 ],
 "metadata": {
  "kernelspec": {
   "display_name": "Python 3.8.10 64-bit",
   "language": "python",
   "name": "python3"
  },
  "language_info": {
   "codemirror_mode": {
    "name": "ipython",
    "version": 3
   },
   "file_extension": ".py",
   "mimetype": "text/x-python",
   "name": "python",
   "nbconvert_exporter": "python",
   "pygments_lexer": "ipython3",
   "version": "3.8.10"
  },
  "vscode": {
   "interpreter": {
    "hash": "e7370f93d1d0cde622a1f8e1c04877d8463912d04d973331ad4851f04de6915a"
   }
  }
 },
 "nbformat": 4,
 "nbformat_minor": 2
}
